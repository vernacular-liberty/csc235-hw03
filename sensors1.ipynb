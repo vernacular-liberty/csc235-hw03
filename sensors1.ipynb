{
 "cells": [
  {
   "cell_type": "code",
   "execution_count": 1,
   "metadata": {},
   "outputs": [],
   "source": [
    "import pandas as pd"
   ]
  },
  {
   "cell_type": "code",
   "execution_count": 66,
   "metadata": {},
   "outputs": [
    {
     "data": {
      "text/html": [
       "<div>\n",
       "<style scoped>\n",
       "    .dataframe tbody tr th:only-of-type {\n",
       "        vertical-align: middle;\n",
       "    }\n",
       "\n",
       "    .dataframe tbody tr th {\n",
       "        vertical-align: top;\n",
       "    }\n",
       "\n",
       "    .dataframe thead th {\n",
       "        text-align: right;\n",
       "    }\n",
       "</style>\n",
       "<table border=\"1\" class=\"dataframe\">\n",
       "  <thead>\n",
       "    <tr style=\"text-align: right;\">\n",
       "      <th></th>\n",
       "      <th>Wind Direction</th>\n",
       "      <th>Wind Speed (m/s)</th>\n",
       "      <th>timeStamp</th>\n",
       "    </tr>\n",
       "  </thead>\n",
       "  <tbody>\n",
       "    <tr>\n",
       "      <th>0</th>\n",
       "      <td>190.5</td>\n",
       "      <td>4.0</td>\n",
       "      <td>2016-04-01 00:00:00</td>\n",
       "    </tr>\n",
       "    <tr>\n",
       "      <th>1</th>\n",
       "      <td>203.3</td>\n",
       "      <td>5.0</td>\n",
       "      <td>2016-04-01 03:00:00</td>\n",
       "    </tr>\n",
       "    <tr>\n",
       "      <th>2</th>\n",
       "      <td>201.1</td>\n",
       "      <td>5.2</td>\n",
       "      <td>2016-04-01 06:00:00</td>\n",
       "    </tr>\n",
       "    <tr>\n",
       "      <th>3</th>\n",
       "      <td>204.9</td>\n",
       "      <td>4.1</td>\n",
       "      <td>2016-04-01 09:00:00</td>\n",
       "    </tr>\n",
       "    <tr>\n",
       "      <th>4</th>\n",
       "      <td>207.0</td>\n",
       "      <td>3.6</td>\n",
       "      <td>2016-04-01 12:00:00</td>\n",
       "    </tr>\n",
       "  </tbody>\n",
       "</table>\n",
       "</div>"
      ],
      "text/plain": [
       "   Wind Direction  Wind Speed (m/s)           timeStamp\n",
       "0           190.5               4.0 2016-04-01 00:00:00\n",
       "1           203.3               5.0 2016-04-01 03:00:00\n",
       "2           201.1               5.2 2016-04-01 06:00:00\n",
       "3           204.9               4.1 2016-04-01 09:00:00\n",
       "4           207.0               3.6 2016-04-01 12:00:00"
      ]
     },
     "execution_count": 66,
     "metadata": {},
     "output_type": "execute_result"
    }
   ],
   "source": [
    "#clean meteorological data time stamps and eliminate seemingly irrelevant columns\n",
    "meteorological_df = pd.read_excel('hw03-data/Sensor Data/Meteorological Data.xlsx')\n",
    "if 'Date' in meteorological_df.columns:\n",
    "    meteorological_df['timeStamp'] = pd.to_datetime(meteorological_df['Date'], errors='coerce')\n",
    "else:\n",
    "    print('Column \"Date\" not found')\n",
    "meteorological_df = meteorological_df.drop(columns=['Date'])\n",
    "meteorological_df = meteorological_df.drop(columns=['Unnamed: 3'])\n",
    "meteorological_df = meteorological_df.drop(columns=['Elevation (m)'])\n",
    "\n",
    "meteorological_df.head()"
   ]
  },
  {
   "cell_type": "code",
   "execution_count": 56,
   "metadata": {},
   "outputs": [
    {
     "data": {
      "text/html": [
       "<div>\n",
       "<style scoped>\n",
       "    .dataframe tbody tr th:only-of-type {\n",
       "        vertical-align: middle;\n",
       "    }\n",
       "\n",
       "    .dataframe tbody tr th {\n",
       "        vertical-align: top;\n",
       "    }\n",
       "\n",
       "    .dataframe thead th {\n",
       "        text-align: right;\n",
       "    }\n",
       "</style>\n",
       "<table border=\"1\" class=\"dataframe\">\n",
       "  <thead>\n",
       "    <tr style=\"text-align: right;\">\n",
       "      <th></th>\n",
       "      <th>Chemical</th>\n",
       "      <th>Monitor</th>\n",
       "      <th>Reading</th>\n",
       "      <th>timeStamp</th>\n",
       "    </tr>\n",
       "  </thead>\n",
       "  <tbody>\n",
       "    <tr>\n",
       "      <th>0</th>\n",
       "      <td>Methylosmolene</td>\n",
       "      <td>3</td>\n",
       "      <td>2.683820</td>\n",
       "      <td>2016-04-01</td>\n",
       "    </tr>\n",
       "    <tr>\n",
       "      <th>1</th>\n",
       "      <td>Methylosmolene</td>\n",
       "      <td>7</td>\n",
       "      <td>2.630640</td>\n",
       "      <td>2016-04-01</td>\n",
       "    </tr>\n",
       "    <tr>\n",
       "      <th>2</th>\n",
       "      <td>Chlorodinine</td>\n",
       "      <td>3</td>\n",
       "      <td>1.259170</td>\n",
       "      <td>2016-04-01</td>\n",
       "    </tr>\n",
       "    <tr>\n",
       "      <th>3</th>\n",
       "      <td>Chlorodinine</td>\n",
       "      <td>7</td>\n",
       "      <td>0.943983</td>\n",
       "      <td>2016-04-01</td>\n",
       "    </tr>\n",
       "    <tr>\n",
       "      <th>4</th>\n",
       "      <td>AGOC-3A</td>\n",
       "      <td>3</td>\n",
       "      <td>0.722303</td>\n",
       "      <td>2016-04-01</td>\n",
       "    </tr>\n",
       "  </tbody>\n",
       "</table>\n",
       "</div>"
      ],
      "text/plain": [
       "         Chemical  Monitor   Reading  timeStamp\n",
       "0  Methylosmolene        3  2.683820 2016-04-01\n",
       "1  Methylosmolene        7  2.630640 2016-04-01\n",
       "2    Chlorodinine        3  1.259170 2016-04-01\n",
       "3    Chlorodinine        7  0.943983 2016-04-01\n",
       "4         AGOC-3A        3  0.722303 2016-04-01"
      ]
     },
     "execution_count": 56,
     "metadata": {},
     "output_type": "execute_result"
    }
   ],
   "source": [
    "#clean sensor data time stamps \n",
    "sensor_df = pd.read_excel('hw03-data/Sensor Data/Sensor Data.xlsx')\n",
    "if 'Date Time ' in sensor_df.columns:\n",
    "    sensor_df['timeStamp'] = pd.to_datetime(sensor_df['Date Time '], errors='coerce')\n",
    "else:\n",
    "    print('Column \"Date Time\" not found')\n",
    "sensor_df = sensor_df.drop(columns=['Date Time '])\n",
    "sensor_df.head()"
   ]
  },
  {
   "cell_type": "code",
   "execution_count": 79,
   "metadata": {},
   "outputs": [
    {
     "name": "stdout",
     "output_type": "stream",
     "text": [
      "Unique Dates in Sensor Data: 92\n",
      "Unique Dates in Meteorological Data: 89\n"
     ]
    }
   ],
   "source": [
    "# Count unique dates in both DataFrames\n",
    "sensor_date_count = sensor_df['timeStamp'].dt.date.nunique()\n",
    "meteorological_date_count = meteorological_df['timeStamp'].dt.date.nunique()\n",
    "\n",
    "# Print the counts\n",
    "print(f\"Unique Dates in Sensor Data: {sensor_date_count}\")\n",
    "print(f\"Unique Dates in Meteorological Data: {meteorological_date_count}\")"
   ]
  },
  {
   "cell_type": "code",
   "execution_count": 83,
   "metadata": {},
   "outputs": [],
   "source": [
    "# Find common dates\n",
    "common_dates = set(sensor_dates) & set(meteorological_dates)\n",
    "\n",
    "# Filter both DataFrames to keep only rows with common dates\n",
    "sensor_df_filtered = sensor_df[sensor_df['timeStamp'].dt.date.isin(common_dates)]\n",
    "meteorological_df_filtered = meteorological_df[meteorological_df['timeStamp'].dt.date.isin(common_dates)]"
   ]
  },
  {
   "cell_type": "code",
   "execution_count": 84,
   "metadata": {},
   "outputs": [
    {
     "name": "stdout",
     "output_type": "stream",
     "text": [
      "Unique Dates in Sensor Data: 89\n",
      "Unique Dates in Meteorological Data: 89\n"
     ]
    }
   ],
   "source": [
    "# Count unique dates in both DataFrames\n",
    "sensor_date_count = sensor_df_filtered['timeStamp'].dt.date.nunique()\n",
    "meteorological_date_count = meteorological_df_filtered['timeStamp'].dt.date.nunique()\n",
    "\n",
    "# Print the counts\n",
    "print(f\"Unique Dates in Sensor Data: {sensor_date_count}\")\n",
    "print(f\"Unique Dates in Meteorological Data: {meteorological_date_count}\")"
   ]
  },
  {
   "cell_type": "code",
   "execution_count": 102,
   "metadata": {},
   "outputs": [
    {
     "name": "stderr",
     "output_type": "stream",
     "text": [
      "/var/folders/lc/3lf1vl6d5278xt54g66z2f880000gn/T/ipykernel_11654/4289384344.py:2: SettingWithCopyWarning: \n",
      "A value is trying to be set on a copy of a slice from a DataFrame.\n",
      "Try using .loc[row_indexer,col_indexer] = value instead\n",
      "\n",
      "See the caveats in the documentation: https://pandas.pydata.org/pandas-docs/stable/user_guide/indexing.html#returning-a-view-versus-a-copy\n",
      "  meteorological_df_filtered['day'] = meteorological_df_filtered['timeStamp'].dt.round('1d')\n"
     ]
    },
    {
     "data": {
      "text/html": [
       "<div>\n",
       "<style scoped>\n",
       "    .dataframe tbody tr th:only-of-type {\n",
       "        vertical-align: middle;\n",
       "    }\n",
       "\n",
       "    .dataframe tbody tr th {\n",
       "        vertical-align: top;\n",
       "    }\n",
       "\n",
       "    .dataframe thead th {\n",
       "        text-align: right;\n",
       "    }\n",
       "</style>\n",
       "<table border=\"1\" class=\"dataframe\">\n",
       "  <thead>\n",
       "    <tr style=\"text-align: right;\">\n",
       "      <th></th>\n",
       "      <th>day</th>\n",
       "      <th>Average_Wind_Direction</th>\n",
       "      <th>Average_Wind_Speed</th>\n",
       "    </tr>\n",
       "  </thead>\n",
       "  <tbody>\n",
       "    <tr>\n",
       "      <th>0</th>\n",
       "      <td>2016-04-01</td>\n",
       "      <td>201.360000</td>\n",
       "      <td>4.380000</td>\n",
       "    </tr>\n",
       "    <tr>\n",
       "      <th>1</th>\n",
       "      <td>2016-04-02</td>\n",
       "      <td>257.028571</td>\n",
       "      <td>2.328571</td>\n",
       "    </tr>\n",
       "    <tr>\n",
       "      <th>2</th>\n",
       "      <td>2016-04-03</td>\n",
       "      <td>262.266667</td>\n",
       "      <td>2.644444</td>\n",
       "    </tr>\n",
       "    <tr>\n",
       "      <th>3</th>\n",
       "      <td>2016-04-04</td>\n",
       "      <td>299.128571</td>\n",
       "      <td>3.871429</td>\n",
       "    </tr>\n",
       "    <tr>\n",
       "      <th>4</th>\n",
       "      <td>2016-04-05</td>\n",
       "      <td>301.844444</td>\n",
       "      <td>1.522222</td>\n",
       "    </tr>\n",
       "  </tbody>\n",
       "</table>\n",
       "</div>"
      ],
      "text/plain": [
       "         day  Average_Wind_Direction  Average_Wind_Speed\n",
       "0 2016-04-01              201.360000            4.380000\n",
       "1 2016-04-02              257.028571            2.328571\n",
       "2 2016-04-03              262.266667            2.644444\n",
       "3 2016-04-04              299.128571            3.871429\n",
       "4 2016-04-05              301.844444            1.522222"
      ]
     },
     "execution_count": 102,
     "metadata": {},
     "output_type": "execute_result"
    }
   ],
   "source": [
    "# Group by date and calculate the average wind direction and speed\n",
    "meteorological_df_filtered['day'] = meteorological_df_filtered['timeStamp'].dt.round('1d')\n",
    "average_meteorological_df_filtered = meteorological_df_filtered.groupby('day').size().reset_index(name='Calls')\n",
    "average_meteorological_df_filtered = meteorological_df_filtered.groupby('day').agg(\n",
    "    Average_Wind_Direction=('Wind Direction', 'mean'),\n",
    "    Average_Wind_Speed=('Wind Speed (m/s)', 'mean')\n",
    ").reset_index()\n",
    "average_meteorological_df_filtered.head()"
   ]
  }
 ],
 "metadata": {
  "kernelspec": {
   "display_name": "Python 3",
   "language": "python",
   "name": "python3"
  },
  "language_info": {
   "codemirror_mode": {
    "name": "ipython",
    "version": 3
   },
   "file_extension": ".py",
   "mimetype": "text/x-python",
   "name": "python",
   "nbconvert_exporter": "python",
   "pygments_lexer": "ipython3",
   "version": "3.12.6"
  }
 },
 "nbformat": 4,
 "nbformat_minor": 2
}
